{
 "cells": [
  {
   "cell_type": "markdown",
   "metadata": {},
   "source": [
    "# Testing MegaBinary Operations"
   ]
  },
  {
   "cell_type": "code",
   "execution_count": 1,
   "metadata": {},
   "outputs": [],
   "source": [
    "from bizarromath.meganumber.mega_binary import MegaBinary"
   ]
  },
  {
   "cell_type": "markdown",
   "metadata": {},
   "source": [
    "## Addition"
   ]
  },
  {
   "cell_type": "code",
   "execution_count": 2,
   "metadata": {},
   "outputs": [
    {
     "name": "stdout",
     "output_type": "stream",
     "text": [
      "1010 + 1100 = 10110\n"
     ]
    }
   ],
   "source": [
    "a = MegaBinary(\"1010\")\n",
    "b = MegaBinary(\"1100\")\n",
    "c = a.add(b)\n",
    "print(\"1010 + 1100 =\", c.to_string())"
   ]
  },
  {
   "cell_type": "markdown",
   "metadata": {},
   "source": [
    "## Subtraction"
   ]
  },
  {
   "cell_type": "code",
   "execution_count": 3,
   "metadata": {},
   "outputs": [
    {
     "name": "stdout",
     "output_type": "stream",
     "text": [
      "1100 - 1010 = 10\n"
     ]
    }
   ],
   "source": [
    "a = MegaBinary(\"1100\")\n",
    "b = MegaBinary(\"1010\")\n",
    "c = a.sub(b)\n",
    "print(\"1100 - 1010 =\", c.to_string())"
   ]
  },
  {
   "cell_type": "markdown",
   "metadata": {},
   "source": [
    "## Multiplication"
   ]
  },
  {
   "cell_type": "code",
   "execution_count": 4,
   "metadata": {},
   "outputs": [
    {
     "name": "stdout",
     "output_type": "stream",
     "text": [
      "1010 * 1100 = 1111000\n"
     ]
    }
   ],
   "source": [
    "a = MegaBinary(\"1010\")\n",
    "b = MegaBinary(\"1100\")\n",
    "product = a.mul(b)\n",
    "print(\"1010 * 1100 =\", product.to_string())"
   ]
  },
  {
   "cell_type": "markdown",
   "metadata": {},
   "source": [
    "## Division"
   ]
  },
  {
   "cell_type": "code",
   "execution_count": 5,
   "metadata": {},
   "outputs": [
    {
     "name": "stdout",
     "output_type": "stream",
     "text": [
      "1100 / 1010 = 1\n"
     ]
    }
   ],
   "source": [
    "a = MegaBinary(\"1100\")\n",
    "b = MegaBinary(\"1010\")\n",
    "quotient = a.div(b)\n",
    "print(\"1100 / 1010 =\", quotient.to_string())"
   ]
  }
 ],
 "metadata": {
  "kernelspec": {
   "display_name": "base",
   "language": "python",
   "name": "python3"
  },
  "language_info": {
   "codemirror_mode": {
    "name": "ipython",
    "version": 3
   },
   "file_extension": ".py",
   "mimetype": "text/x-python",
   "name": "python",
   "nbconvert_exporter": "python",
   "pygments_lexer": "ipython3",
   "version": "3.12.2"
  }
 },
 "nbformat": 4,
 "nbformat_minor": 4
}
