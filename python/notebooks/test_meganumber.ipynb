{
 "cells": [
  {
   "cell_type": "markdown",
   "metadata": {},
   "source": [
    "# Testing MegaNumber Operations"
   ]
  },
  {
   "cell_type": "code",
   "execution_count": null,
   "metadata": {},
   "outputs": [],
   "source": [
    "from bizarromath.meganumber.mega_number import MegaNumber"
   ]
  },
  {
   "cell_type": "markdown",
   "metadata": {},
   "source": [
    "## Addition"
   ]
  },
  {
   "cell_type": "code",
   "execution_count": null,
   "metadata": {},
   "outputs": [],
   "source": [
    "a = MegaNumber.from_decimal_string(\"123\")\n",
    "b = MegaNumber.from_decimal_string(\"456\")\n",
    "c = a.add(b)\n",
    "print(\"123 + 456 =\", c.to_decimal_string())"
   ]
  },
  {
   "cell_type": "markdown",
   "metadata": {},
   "source": [
    "## Subtraction"
   ]
  },
  {
   "cell_type": "code",
   "execution_count": null,
   "metadata": {},
   "outputs": [],
   "source": [
    "a = MegaNumber.from_decimal_string(\"500\")\n",
    "b = MegaNumber.from_decimal_string(\"123\")\n",
    "c = a.sub(b)\n",
    "print(\"500 - 123 =\", c.to_decimal_string())"
   ]
  },
  {
   "cell_type": "markdown",
   "metadata": {},
   "source": [
    "## Multiplication"
   ]
  },
  {
   "cell_type": "code",
   "execution_count": null,
   "metadata": {},
   "outputs": [],
   "source": [
    "a = MegaNumber.from_decimal_string(\"999999\")\n",
    "b = MegaNumber.from_decimal_string(\"1001\")\n",
    "product = a.mul(b)\n",
    "print(\"999999 * 1001 =\", product.to_decimal_string())"
   ]
  },
  {
   "cell_type": "markdown",
   "metadata": {},
   "source": [
    "## Division"
   ]
  },
  {
   "cell_type": "code",
   "execution_count": null,
   "metadata": {},
   "outputs": [],
   "source": [
    "a = MegaNumber.from_decimal_string(\"999999\")\n",
    "b = MegaNumber.from_decimal_string(\"1000\")\n",
    "quotient = a.div(b)\n",
    "print(\"999999 // 1000 =\", quotient.to_decimal_string())"
   ]
  },
  {
   "cell_type": "markdown",
   "metadata": {},
   "source": [
    "## Power"
   ]
  },
  {
   "cell_type": "code",
   "execution_count": null,
   "metadata": {},
   "outputs": [],
   "source": [
    "base = MegaNumber.from_decimal_string(\"5\")\n",
    "exponent = MegaNumber.from_decimal_string(\"3\")\n",
    "result = base.pow(exponent)\n",
    "print(\"5^3 =\", result.to_decimal_string())"
   ]
  },
  {
   "cell_type": "markdown",
   "metadata": {},
   "source": [
    "## Square Root"
   ]
  },
  {
   "cell_type": "code",
   "execution_count": null,
   "metadata": {},
   "outputs": [],
   "source": [
    "x = MegaNumber.from_decimal_string(\"1000000\")\n",
    "root = x.sqrt()\n",
    "print(\"sqrt(1000000) =\", root.to_decimal_string())"
   ]
  }
 ],
 "metadata": {
  "kernelspec": {
   "display_name": "Python 3",
   "language": "python",
   "name": "python3"
  },
  "language_info": {
   "codemirror_mode": {
    "name": "ipython",
    "version": 3
   },
   "file_extension": ".py",
   "mimetype": "text/x-python",
   "name": "python",
   "nbconvert_exporter": "python",
   "pygments_lexer": "ipython3",
   "version": "3.8.5"
  }
 },
 "nbformat": 4,
 "nbformat_minor": 4
}
