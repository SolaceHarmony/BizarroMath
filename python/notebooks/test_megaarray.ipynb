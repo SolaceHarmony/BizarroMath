{
 "cells": [
  {
   "cell_type": "markdown",
   "metadata": {},
   "source": [
    "# Testing MegaArray Operations"
   ]
  },
  {
   "cell_type": "code",
   "execution_count": 2,
   "metadata": {},
   "outputs": [],
   "source": [
    "from bizarromath import MegaArray"
   ]
  },
  {
   "cell_type": "markdown",
   "metadata": {},
   "source": [
    "## Addition"
   ]
  },
  {
   "cell_type": "code",
   "execution_count": 7,
   "metadata": {},
   "outputs": [
    {
     "name": "stdout",
     "output_type": "stream",
     "text": [
      "1,2,3 + 4,5,6 = 5,7,9\n"
     ]
    }
   ],
   "source": [
    "a = MegaArray(\"1,2,3\")\n",
    "b = MegaArray(\"4,5,6\")\n",
    "c = a.add(b)\n",
    "print(\"1,2,3 + 4,5,6 =\", c.to_string())"
   ]
  },
  {
   "cell_type": "markdown",
   "metadata": {},
   "source": [
    "## Subtraction"
   ]
  },
  {
   "cell_type": "code",
   "execution_count": 4,
   "metadata": {},
   "outputs": [
    {
     "name": "stdout",
     "output_type": "stream",
     "text": [
      "10,20,30 - 1,2,3 = 9,18,27\n"
     ]
    }
   ],
   "source": [
    "a = MegaArray.from_decimal_string(\"10,20,30\")\n",
    "b = MegaArray.from_decimal_string(\"1,2,3\")\n",
    "c = a.sub(b)\n",
    "print(\"10,20,30 - 1,2,3 =\", c.to_string())"
   ]
  },
  {
   "cell_type": "markdown",
   "metadata": {},
   "source": [
    "## Multiplication"
   ]
  },
  {
   "cell_type": "code",
   "execution_count": 5,
   "metadata": {},
   "outputs": [
    {
     "name": "stdout",
     "output_type": "stream",
     "text": [
      "1,2,3 * 4,5,6 = 4,10,18\n"
     ]
    }
   ],
   "source": [
    "a = MegaArray.from_decimal_string(\"1,2,3\")\n",
    "b = MegaArray.from_decimal_string(\"4,5,6\")\n",
    "product = a.mul(b)\n",
    "print(\"1,2,3 * 4,5,6 =\", product.to_string())"
   ]
  },
  {
   "cell_type": "markdown",
   "metadata": {},
   "source": [
    "## Division"
   ]
  },
  {
   "cell_type": "code",
   "execution_count": 6,
   "metadata": {},
   "outputs": [
    {
     "name": "stdout",
     "output_type": "stream",
     "text": [
      "10,20,30 / 2,2,2 = 5,10,15\n"
     ]
    }
   ],
   "source": [
    "a = MegaArray.from_decimal_string(\"10,20,30\")\n",
    "b = MegaArray.from_decimal_string(\"2,2,2\")\n",
    "quotient = a.div(b)\n",
    "print(\"10,20,30 / 2,2,2 =\", quotient.to_string())"
   ]
  }
 ],
 "metadata": {
  "kernelspec": {
   "display_name": "base",
   "language": "python",
   "name": "python3"
  },
  "language_info": {
   "codemirror_mode": {
    "name": "ipython",
    "version": 3
   },
   "file_extension": ".py",
   "mimetype": "text/x-python",
   "name": "python",
   "nbconvert_exporter": "python",
   "pygments_lexer": "ipython3",
   "version": "3.12.2"
  }
 },
 "nbformat": 4,
 "nbformat_minor": 4
}
