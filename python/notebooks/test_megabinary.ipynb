{
 "cells": [
  {
   "cell_type": "markdown",
   "metadata": {},
   "source": [
    "# Testing MegaBinary Operations"
   ]
  },
  {
   "cell_type": "code",
   "execution_count": 1,
   "metadata": {},
   "outputs": [],
   "source": [
    "from bizarromath.meganumber.mega_binary import MegaBinary"
   ]
  },
  {
   "cell_type": "markdown",
   "metadata": {},
   "source": [
    "## Addition"
   ]
  },
  {
   "cell_type": "code",
   "execution_count": 2,
   "metadata": {},
   "outputs": [
    {
     "name": "stdout",
     "output_type": "stream",
     "text": [
      "1010 + 1100 = 10110\n"
     ]
    }
   ],
   "source": [
    "a = MegaBinary(\"1010\")\n",
    "b = MegaBinary(\"1100\")\n",
    "c = a.add(b)\n",
    "print(\"1010 + 1100 =\", c.to_string())"
   ]
  },
  {
   "cell_type": "markdown",
   "metadata": {},
   "source": [
    "## Subtraction"
   ]
  },
  {
   "cell_type": "code",
   "execution_count": 3,
   "metadata": {},
   "outputs": [
    {
     "name": "stdout",
     "output_type": "stream",
     "text": [
      "1100 - 1010 = 10\n"
     ]
    }
   ],
   "source": [
    "a = MegaBinary(\"1100\")\n",
    "b = MegaBinary(\"1010\")\n",
    "c = a.sub(b)\n",
    "print(\"1100 - 1010 =\", c.to_string())"
   ]
  },
  {
   "cell_type": "markdown",
   "metadata": {},
   "source": [
    "## Multiplication"
   ]
  },
  {
   "cell_type": "code",
   "execution_count": 4,
   "metadata": {},
   "outputs": [
    {
     "name": "stdout",
     "output_type": "stream",
     "text": [
      "1010 * 1100 = 1111000\n"
     ]
    }
   ],
   "source": [
    "a = MegaBinary(\"1010\")\n",
    "b = MegaBinary(\"1100\")\n",
    "product = a.mul(b)\n",
    "print(\"1010 * 1100 =\", product.to_string())"
   ]
  },
  {
   "cell_type": "markdown",
   "metadata": {},
   "source": [
    "## Division"
   ]
  },
  {
   "cell_type": "code",
   "execution_count": 5,
   "metadata": {},
   "outputs": [
    {
     "name": "stdout",
     "output_type": "stream",
     "text": [
      "1100 / 1010 = 1\n"
     ]
    }
   ],
   "source": [
    "a = MegaBinary(\"1100\")\n",
    "b = MegaBinary(\"1010\")\n",
    "quotient = a.div(b)\n",
    "\n",
    "# Handle both MegaBinary and MegaFloat return types\n",
    "if hasattr(quotient, 'to_string'):\n",
    "    result = quotient.to_string()\n",
    "else:\n",
    "    result = quotient.to_decimal_string()\n",
    "    \n",
    "print(\"1100 / 1010 =\", result)"
   ]
  },
  {
   "cell_type": "markdown",
   "metadata": {},
   "source": [
    "## Byte Array Input/Output"
   ]
  },
  {
   "cell_type": "code",
   "execution_count": 6,
   "metadata": {},
   "outputs": [
    {
     "name": "stdout",
     "output_type": "stream",
     "text": [
      "Original bytes: bytearray(b'\\n\\x0b\\x0c')\n",
      "As binary string: 000010100000101100001100\n",
      "Back to bytes: b'\\n\\x0b\\x0c'\n",
      "Byte values match: True\n"
     ]
    }
   ],
   "source": [
    "# Test bytearray input\n",
    "data = bytearray([0x0A, 0x0B, 0x0C])  # 10, 11, 12 in hex\n",
    "binary = MegaBinary(data)\n",
    "print(\"Original bytes:\", data)\n",
    "print(\"As binary string:\", binary.to_string())\n",
    "print(\"Back to bytes:\", binary.to_bytes())\n",
    "print(\"Byte values match:\", data == binary.to_bytes())"
   ]
  },
  {
   "cell_type": "code",
   "execution_count": 7,
   "metadata": {},
   "outputs": [
    {
     "name": "stdout",
     "output_type": "stream",
     "text": [
      "0x55 + 0xAA = 0xff\n",
      "\n",
      "Binary patterns:\n",
      "a: 01010101\n",
      "b: 10101010\n",
      "sum: 11111111\n"
     ]
    }
   ],
   "source": [
    "# Test bytes input with arithmetic\n",
    "a = MegaBinary(bytes([0x55]))  # 01010101 in binary\n",
    "b = MegaBinary(bytes([0xAA]))  # 10101010 in binary\n",
    "\n",
    "# Addition\n",
    "sum_result = a.add(b)\n",
    "print(\"0x55 + 0xAA =\", hex(int(sum_result.to_bytes()[0])))\n",
    "\n",
    "# XOR test (if implemented)\n",
    "if hasattr(MegaBinary, 'xor'):\n",
    "    xor_result = a.xor(b)\n",
    "    print(\"0x55 XOR 0xAA =\", hex(int(xor_result.to_bytes()[0])))\n",
    "\n",
    "# Binary pattern test\n",
    "print(\"\\nBinary patterns:\")\n",
    "print(f\"a: {a.to_string()}\")\n",
    "print(f\"b: {b.to_string()}\")\n",
    "print(f\"sum: {sum_result.to_string()}\")"
   ]
  },
  {
   "cell_type": "code",
   "execution_count": 8,
   "metadata": {},
   "outputs": [
    {
     "name": "stdout",
     "output_type": "stream",
     "text": [
      "Prime numbers: [2, 3, 5, 7, 11, 13]\n",
      "As bytearray: bytearray(b'\\x02\\x03\\x05\\x07\\x0b\\r')\n",
      "As binary string: 000000100000001100000101000001110000101100001101\n",
      "Recovered bytes: [2, 3, 5, 7, 11, 13]\n",
      "Values preserved: True\n"
     ]
    }
   ],
   "source": [
    "# Test prime number sequence\n",
    "prime_numbers = [2, 3, 5, 7, 11, 13]\n",
    "byte_array = bytearray(prime_numbers)\n",
    "binary = MegaBinary(byte_array)\n",
    "\n",
    "print(\"Prime numbers:\", prime_numbers)\n",
    "print(\"As bytearray:\", byte_array)\n",
    "print(\"As binary string:\", binary.to_string())\n",
    "print(\"Recovered bytes:\", list(binary.to_bytes()))\n",
    "print(\"Values preserved:\", list(binary.to_bytes()) == prime_numbers)"
   ]
  },
  {
   "cell_type": "markdown",
   "metadata": {},
   "source": [
    "## Binary to Float Conversion"
   ]
  },
  {
   "cell_type": "code",
   "execution_count": 9,
   "metadata": {},
   "outputs": [
    {
     "name": "stdout",
     "output_type": "stream",
     "text": [
      "Binary numerator: 1111111100000000\n",
      "Binary denominator: 00010000\n",
      "Result as float: 4080\n",
      "Verification: 65280 / 16 = 4080.0\n",
      "\n",
      "Back to binary: 111111110000\n",
      "Original bytes: ff00 / 10\n",
      "Result bytes: 0ff0\n"
     ]
    }
   ],
   "source": [
    "from bizarromath.meganumber.mega_float import MegaFloat\n",
    "\n",
    "# Create binary numbers\n",
    "numerator = MegaBinary(bytes([0xFF, 0x00]))    # 1111 1111 0000 0000\n",
    "denominator = MegaBinary(bytes([0x10]))        # 0001 0000\n",
    "\n",
    "# Perform division to get float\n",
    "result = numerator.div(denominator)\n",
    "\n",
    "print(f\"Binary numerator: {numerator.to_string()}\")\n",
    "print(f\"Binary denominator: {denominator.to_string()}\")\n",
    "print(f\"Result as float: {result.to_decimal_string()}\")\n",
    "print(f\"Verification: {int(numerator.to_string(), 2)} / {int(denominator.to_string(), 2)} = {int(numerator.to_string(), 2) / int(denominator.to_string(), 2)}\")\n",
    "\n",
    "# Convert back to binary\n",
    "binary_result = MegaBinary(bin(int(float(result.to_decimal_string())))[2:])\n",
    "print(f\"\\nBack to binary: {binary_result.to_string()}\")\n",
    "\n",
    "# Show as bytes\n",
    "print(f\"Original bytes: {numerator.to_bytes().hex()} / {denominator.to_bytes().hex()}\")\n",
    "print(f\"Result bytes: {binary_result.to_bytes().hex()}\")"
   ]
  },
  {
   "cell_type": "code",
   "execution_count": null,
   "metadata": {},
   "outputs": [],
   "source": []
  }
 ],
 "metadata": {
  "kernelspec": {
   "display_name": "base",
   "language": "python",
   "name": "python3"
  },
  "language_info": {
   "codemirror_mode": {
    "name": "ipython",
    "version": 3
   },
   "file_extension": ".py",
   "mimetype": "text/x-python",
   "name": "python",
   "nbconvert_exporter": "python",
   "pygments_lexer": "ipython3",
   "version": "3.12.2"
  }
 },
 "nbformat": 4,
 "nbformat_minor": 4
}
